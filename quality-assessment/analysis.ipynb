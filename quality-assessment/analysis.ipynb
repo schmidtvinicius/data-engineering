{
 "cells": [
  {
   "cell_type": "code",
   "execution_count": 1,
   "metadata": {},
   "outputs": [],
   "source": [
    "import duckdb\n",
    "import os\n",
    "import pandas as pd\n",
    "import numpy as np\n",
    "import re\n",
    "\n",
    "from duckdb.typing import *\n",
    "from duckdb import DuckDBPyRelation"
   ]
  },
  {
   "cell_type": "markdown",
   "metadata": {},
   "source": [
    "## Qulaity assessment"
   ]
  },
  {
   "cell_type": "code",
   "execution_count": 2,
   "metadata": {},
   "outputs": [],
   "source": [
    "input_root_dir = '../data/'\n",
    "output_root_dir = '../clean_data/'\n",
    "\n",
    "if not os.path.exists(output_root_dir):\n",
    "    os.mkdir(output_root_dir)\n",
    "\n",
    "# input_files_dirs = [os.path.join(input_root_dir,'2000')]\n",
    "# output_files_dirs = [os.path.join(output_root_dir,'2023')]\n",
    "\n",
    "input_files_dirs = [os.path.join(input_root_dir,x) for x in os.listdir(input_root_dir)]\n",
    "# output_files_dirs = [os.path.join(output_root_dir,x) for x in os.listdir(input_root_dir)]"
   ]
  },
  {
   "cell_type": "code",
   "execution_count": 3,
   "metadata": {},
   "outputs": [],
   "source": [
    "COLUMN_NAMES = ['date','time','total_precipitation','avg_atmospheric_pressure','max_atmospheric_pressure','min_atmospheric_pressure','global_radiation','avg_air_temperature','dew_point','max_temperature','min_temperature','max_dew_point','min_dew_point','max_relative_air_humidity','min_relative_air_humidity','relative_air_humidity','wind_direction','max_wind_gust','wind_speed']\n",
    "HEADER_KEYS = ['region', 'federative_unit', 'name', 'code', 'latitude', 'longitude', 'altitude', 'foundation_date']\n",
    "ENCODING = 'iso-8859-1'\n",
    "HEADER_SIZE = 8"
   ]
  },
  {
   "cell_type": "code",
   "execution_count": 4,
   "metadata": {},
   "outputs": [],
   "source": [
    "def parse_time(time: str) -> str:\n",
    "    if re.match('^([01][\\d]|2[0-3])([0-5][\\d]) UTC$', time) is not None:\n",
    "        time = time[:2] + ':' + time[2:4]\n",
    "\n",
    "    return time+':00'\n",
    "\n",
    "\n",
    "def parse_date(date: str) -> str:\n",
    "    if re.match('^[\\d]{4}/[\\d]{2}/[\\d]{2}$', date):\n",
    "        return date.replace('/', '-')\n",
    "    if re.match('^[\\d]{2}/[\\d]{2}/[\\d]{2}$', date):\n",
    "        date = date.split('/')\n",
    "        date[0], date[-1] = '20'+date[-1], date[0]\n",
    "        return '-'.join(date)\n",
    "\n",
    "    return date\n",
    "\n",
    "\n",
    "def parse_float(value: str) -> float:\n",
    "    if not re.match('[\\d\\-,]', value):\n",
    "        return np.nan\n",
    "    return float(value.replace(',', '.'))\n",
    "\n",
    "\n",
    "def read_csv(file_path: str) -> pd.DataFrame:\n",
    "    return pd.read_csv(file_path,\n",
    "                       encoding=ENCODING,\n",
    "                       delimiter=';',\n",
    "                       skiprows=HEADER_SIZE+1,\n",
    "                       decimal=',',\n",
    "                       names=COLUMN_NAMES,\n",
    "                       # We have to specify `usecols`, because the files have a trailing ;, which causes an extra column to be created`\n",
    "                       usecols=COLUMN_NAMES,\n",
    "                       na_values=-9999,)\n",
    "\n",
    "\n",
    "def exclude_null_rows(df: pd.DataFrame) -> pd.DataFrame:\n",
    "    return duckdb.sql(\"SELECT * FROM df EXCEPT SELECT * FROM df WHERE COLUMNS(* EXCLUDE (date,time)) IS NULL\").to_df()\n",
    "\n",
    "\n",
    "def extract_header_values(file_path: str) -> dict:\n",
    "    with open(file_path, 'r', encoding=ENCODING) as f:\n",
    "        return {k:v for k, v in zip(HEADER_KEYS, [f.readline().strip().split(':;')[-1] for _ in range(HEADER_SIZE)])}\n",
    "\n",
    "\n",
    "def save_to_parquet(df: pd.DataFrame, path: str) -> DuckDBPyRelation:\n",
    "    return duckdb.sql(\"\"\"\n",
    "           SELECT concat(parse_date(date),' ',parse_time(time))::DATETIME AS datetime,\n",
    "           COLUMNS(* EXCLUDE (wind_direction,max_relative_air_humidity,min_relative_air_humidity,relative_air_humidity,time,date,wind_speed)),\n",
    "           max_relative_air_humidity::UTINYINT AS max_relative_air_humidity,\n",
    "           min_relative_air_humidity::UTINYINT AS min_relative_air_humidity,\n",
    "           relative_air_humidity::UTINYINT AS relative_air_humidity,\n",
    "           wind_direction::USMALLINT AS wind_direction,\n",
    "           wind_speed\n",
    "           FROM df\"\"\").to_parquet(path)"
   ]
  },
  {
   "cell_type": "code",
   "execution_count": 5,
   "metadata": {},
   "outputs": [],
   "source": [
    "try:\n",
    "    duckdb.create_function('parse_time', parse_time, [VARCHAR], VARCHAR)\n",
    "except duckdb.NotImplementedException:\n",
    "    pass\n",
    "\n",
    "try:\n",
    "    duckdb.create_function('parse_date', parse_date, [VARCHAR], VARCHAR)\n",
    "except duckdb.NotImplementedException:\n",
    "    pass"
   ]
  },
  {
   "cell_type": "code",
   "execution_count": 6,
   "metadata": {},
   "outputs": [],
   "source": [
    "stations = {}\n",
    "failed_files = []"
   ]
  },
  {
   "cell_type": "code",
   "execution_count": 7,
   "metadata": {},
   "outputs": [
    {
     "data": {
      "application/vnd.jupyter.widget-view+json": {
       "model_id": "b4a5f3f696704bdc8a482326fe5159dd",
       "version_major": 2,
       "version_minor": 0
      },
      "text/plain": [
       "FloatProgress(value=0.0, layout=Layout(width='auto'), style=ProgressStyle(bar_color='black'))"
      ]
     },
     "metadata": {},
     "output_type": "display_data"
    },
    {
     "data": {
      "application/vnd.jupyter.widget-view+json": {
       "model_id": "6945276d0fea495eac4e1e030643c1ab",
       "version_major": 2,
       "version_minor": 0
      },
      "text/plain": [
       "FloatProgress(value=0.0, layout=Layout(width='auto'), style=ProgressStyle(bar_color='black'))"
      ]
     },
     "metadata": {},
     "output_type": "display_data"
    },
    {
     "data": {
      "application/vnd.jupyter.widget-view+json": {
       "model_id": "022037f885d048708b23ebde474cdc0d",
       "version_major": 2,
       "version_minor": 0
      },
      "text/plain": [
       "FloatProgress(value=0.0, layout=Layout(width='auto'), style=ProgressStyle(bar_color='black'))"
      ]
     },
     "metadata": {},
     "output_type": "display_data"
    },
    {
     "data": {
      "application/vnd.jupyter.widget-view+json": {
       "model_id": "e244bfca2eaa48558c8e9c7b7ddf76be",
       "version_major": 2,
       "version_minor": 0
      },
      "text/plain": [
       "FloatProgress(value=0.0, layout=Layout(width='auto'), style=ProgressStyle(bar_color='black'))"
      ]
     },
     "metadata": {},
     "output_type": "display_data"
    },
    {
     "data": {
      "application/vnd.jupyter.widget-view+json": {
       "model_id": "9eb6ed7e2681445b8b85f1df625bba42",
       "version_major": 2,
       "version_minor": 0
      },
      "text/plain": [
       "FloatProgress(value=0.0, layout=Layout(width='auto'), style=ProgressStyle(bar_color='black'))"
      ]
     },
     "metadata": {},
     "output_type": "display_data"
    },
    {
     "data": {
      "application/vnd.jupyter.widget-view+json": {
       "model_id": "e712f7e388ef4c27877635ea4f828739",
       "version_major": 2,
       "version_minor": 0
      },
      "text/plain": [
       "FloatProgress(value=0.0, layout=Layout(width='auto'), style=ProgressStyle(bar_color='black'))"
      ]
     },
     "metadata": {},
     "output_type": "display_data"
    },
    {
     "data": {
      "application/vnd.jupyter.widget-view+json": {
       "model_id": "4c8e14b5274f45f2b52a463c590e4152",
       "version_major": 2,
       "version_minor": 0
      },
      "text/plain": [
       "FloatProgress(value=0.0, layout=Layout(width='auto'), style=ProgressStyle(bar_color='black'))"
      ]
     },
     "metadata": {},
     "output_type": "display_data"
    },
    {
     "data": {
      "application/vnd.jupyter.widget-view+json": {
       "model_id": "4dd3648476154c7797e92299b0f407e4",
       "version_major": 2,
       "version_minor": 0
      },
      "text/plain": [
       "FloatProgress(value=0.0, layout=Layout(width='auto'), style=ProgressStyle(bar_color='black'))"
      ]
     },
     "metadata": {},
     "output_type": "display_data"
    },
    {
     "data": {
      "application/vnd.jupyter.widget-view+json": {
       "model_id": "31ea79e6b02346b8a897493423bf8746",
       "version_major": 2,
       "version_minor": 0
      },
      "text/plain": [
       "FloatProgress(value=0.0, layout=Layout(width='auto'), style=ProgressStyle(bar_color='black'))"
      ]
     },
     "metadata": {},
     "output_type": "display_data"
    },
    {
     "data": {
      "application/vnd.jupyter.widget-view+json": {
       "model_id": "6f44ee9f72ff428d9a827037865e95e7",
       "version_major": 2,
       "version_minor": 0
      },
      "text/plain": [
       "FloatProgress(value=0.0, layout=Layout(width='auto'), style=ProgressStyle(bar_color='black'))"
      ]
     },
     "metadata": {},
     "output_type": "display_data"
    },
    {
     "data": {
      "application/vnd.jupyter.widget-view+json": {
       "model_id": "d2cb9ed99e5843d5955eab0f6c791400",
       "version_major": 2,
       "version_minor": 0
      },
      "text/plain": [
       "FloatProgress(value=0.0, layout=Layout(width='auto'), style=ProgressStyle(bar_color='black'))"
      ]
     },
     "metadata": {},
     "output_type": "display_data"
    },
    {
     "data": {
      "application/vnd.jupyter.widget-view+json": {
       "model_id": "6c83165011a948fd9b895b85533515fb",
       "version_major": 2,
       "version_minor": 0
      },
      "text/plain": [
       "FloatProgress(value=0.0, layout=Layout(width='auto'), style=ProgressStyle(bar_color='black'))"
      ]
     },
     "metadata": {},
     "output_type": "display_data"
    },
    {
     "data": {
      "application/vnd.jupyter.widget-view+json": {
       "model_id": "a20c4d0b179e43a08f085bda706b82e8",
       "version_major": 2,
       "version_minor": 0
      },
      "text/plain": [
       "FloatProgress(value=0.0, layout=Layout(width='auto'), style=ProgressStyle(bar_color='black'))"
      ]
     },
     "metadata": {},
     "output_type": "display_data"
    },
    {
     "data": {
      "application/vnd.jupyter.widget-view+json": {
       "model_id": "dce8987edc964ef89680aec55dff7a6b",
       "version_major": 2,
       "version_minor": 0
      },
      "text/plain": [
       "FloatProgress(value=0.0, layout=Layout(width='auto'), style=ProgressStyle(bar_color='black'))"
      ]
     },
     "metadata": {},
     "output_type": "display_data"
    },
    {
     "data": {
      "application/vnd.jupyter.widget-view+json": {
       "model_id": "c89f0e729280488181dafbb623945a06",
       "version_major": 2,
       "version_minor": 0
      },
      "text/plain": [
       "FloatProgress(value=0.0, layout=Layout(width='auto'), style=ProgressStyle(bar_color='black'))"
      ]
     },
     "metadata": {},
     "output_type": "display_data"
    },
    {
     "data": {
      "application/vnd.jupyter.widget-view+json": {
       "model_id": "b5e9715f585f4f13926717990292e73b",
       "version_major": 2,
       "version_minor": 0
      },
      "text/plain": [
       "FloatProgress(value=0.0, layout=Layout(width='auto'), style=ProgressStyle(bar_color='black'))"
      ]
     },
     "metadata": {},
     "output_type": "display_data"
    },
    {
     "data": {
      "application/vnd.jupyter.widget-view+json": {
       "model_id": "272d69cb96c84b6f9ca244262c4306dc",
       "version_major": 2,
       "version_minor": 0
      },
      "text/plain": [
       "FloatProgress(value=0.0, layout=Layout(width='auto'), style=ProgressStyle(bar_color='black'))"
      ]
     },
     "metadata": {},
     "output_type": "display_data"
    }
   ],
   "source": [
    "for input_files_dir in input_files_dirs:\n",
    "    yearly_measurements = pd.DataFrame()\n",
    "    for file_name in os.listdir(input_files_dir):\n",
    "        file_path = os.path.join(input_files_dir,file_name)\n",
    "        station_measurements = read_csv(file_path)\n",
    "        station_measurements.drop_duplicates(subset=['date', 'time'])\n",
    "        station_measurements = exclude_null_rows(station_measurements)\n",
    "        if station_measurements.size != 0:\n",
    "            file_header = extract_header_values(file_path)\n",
    "            station_code = file_header['code']\n",
    "            station_measurements.insert(loc=2,column='station_code',value=[station_code for _ in np.arange(len(station_measurements.index))])\n",
    "            yearly_measurements = pd.concat([yearly_measurements, station_measurements])\n",
    "            if stations.get(station_code) == None:\n",
    "                file_header['latitude'] = parse_float(file_header['latitude'])\n",
    "                file_header['longitude'] = parse_float(file_header['longitude'])\n",
    "                file_header['altitude'] = parse_float(file_header['altitude'])\n",
    "                file_header['foundation_date'] = parse_date(file_header['foundation_date'])\n",
    "                station_code = file_header.pop('code')\n",
    "                stations[station_code] = file_header\n",
    "                \n",
    "    save_to_parquet(yearly_measurements, os.path.join(output_root_dir,input_files_dir.split('/')[-1]+'.parquet'))\n"
   ]
  },
  {
   "cell_type": "code",
   "execution_count": 8,
   "metadata": {},
   "outputs": [],
   "source": [
    "pd.DataFrame.from_dict(stations, orient='index').reset_index(names='code').to_parquet(os.path.join(output_root_dir, 'stations.parquet'), index=False)"
   ]
  }
 ],
 "metadata": {
  "kernelspec": {
   "display_name": "main_env",
   "language": "python",
   "name": "python3"
  },
  "language_info": {
   "codemirror_mode": {
    "name": "ipython",
    "version": 3
   },
   "file_extension": ".py",
   "mimetype": "text/x-python",
   "name": "python",
   "nbconvert_exporter": "python",
   "pygments_lexer": "ipython3",
   "version": "3.9.18"
  }
 },
 "nbformat": 4,
 "nbformat_minor": 2
}
