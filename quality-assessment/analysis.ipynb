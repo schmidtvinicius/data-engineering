{
 "cells": [
  {
   "cell_type": "code",
   "execution_count": 1,
   "metadata": {},
   "outputs": [],
   "source": [
    "import pandas as pd\n",
    "import duckdb"
   ]
  },
  {
   "cell_type": "code",
   "execution_count": 13,
   "metadata": {},
   "outputs": [
    {
     "data": {
      "text/plain": [
       "['index',\n",
       " 'Data',\n",
       " 'Hora',\n",
       " 'PRECIPITAÇÃO TOTAL, HORÁRIO (mm)',\n",
       " 'PRESSAO ATMOSFERICA AO NIVEL DA ESTACAO, HORARIA (mB)',\n",
       " 'PRESSÃO ATMOSFERICA MAX.NA HORA ANT. (AUT) (mB)',\n",
       " 'PRESSÃO ATMOSFERICA MIN. NA HORA ANT. (AUT) (mB)',\n",
       " 'RADIACAO GLOBAL (Kj/m²)',\n",
       " 'TEMPERATURA DO AR - BULBO SECO, HORARIA (°C)',\n",
       " 'TEMPERATURA DO PONTO DE ORVALHO (°C)',\n",
       " 'TEMPERATURA MÁXIMA NA HORA ANT. (AUT) (°C)',\n",
       " 'TEMPERATURA MÍNIMA NA HORA ANT. (AUT) (°C)',\n",
       " 'TEMPERATURA ORVALHO MAX. NA HORA ANT. (AUT) (°C)',\n",
       " 'TEMPERATURA ORVALHO MIN. NA HORA ANT. (AUT) (°C)',\n",
       " 'UMIDADE REL. MAX. NA HORA ANT. (AUT) (%)',\n",
       " 'UMIDADE REL. MIN. NA HORA ANT. (AUT) (%)',\n",
       " 'UMIDADE RELATIVA DO AR, HORARIA (%)',\n",
       " 'VENTO, DIREÇÃO HORARIA (gr) (° (gr))',\n",
       " 'VENTO, RAJADA MAXIMA (m/s)',\n",
       " 'VENTO, VELOCIDADE HORARIA (m/s)',\n",
       " 'region',\n",
       " 'state',\n",
       " 'station',\n",
       " 'station_code',\n",
       " 'latitude',\n",
       " 'longitude',\n",
       " 'height']"
      ]
     },
     "execution_count": 13,
     "metadata": {},
     "output_type": "execute_result"
    }
   ],
   "source": [
    "north_data = duckdb.read_csv('../dataset/north.csv')\n",
    "north_data.columns"
   ]
  },
  {
   "cell_type": "code",
   "execution_count": 18,
   "metadata": {},
   "outputs": [
    {
     "data": {
      "text/plain": [
       "┌─────────┐\n",
       "│  state  │\n",
       "│ varchar │\n",
       "├─────────┤\n",
       "│ PA      │\n",
       "│ RO      │\n",
       "│ AP      │\n",
       "│ RR      │\n",
       "│ AC      │\n",
       "│ AM      │\n",
       "│ TO      │\n",
       "└─────────┘"
      ]
     },
     "execution_count": 18,
     "metadata": {},
     "output_type": "execute_result"
    }
   ],
   "source": [
    "north_data.unique('state')"
   ]
  },
  {
   "cell_type": "code",
   "execution_count": null,
   "metadata": {},
   "outputs": [],
   "source": []
  }
 ],
 "metadata": {
  "kernelspec": {
   "display_name": "main_env",
   "language": "python",
   "name": "python3"
  },
  "language_info": {
   "codemirror_mode": {
    "name": "ipython",
    "version": 3
   },
   "file_extension": ".py",
   "mimetype": "text/x-python",
   "name": "python",
   "nbconvert_exporter": "python",
   "pygments_lexer": "ipython3",
   "version": "3.10.4"
  }
 },
 "nbformat": 4,
 "nbformat_minor": 2
}
